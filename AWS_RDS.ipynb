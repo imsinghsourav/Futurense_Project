{
 "cells": [
  {
   "cell_type": "code",
   "execution_count": 1,
   "id": "27c871da",
   "metadata": {},
   "outputs": [],
   "source": [
    "import mysql.connector\n",
    "import pandas as pd\n",
    "import numpy as np\n",
    "import os\n",
    "import pymysql"
   ]
  },
  {
   "cell_type": "code",
   "execution_count": 2,
   "id": "d90a673a",
   "metadata": {},
   "outputs": [],
   "source": [
    "census=pd.read_csv('Clean_Data/clean_census.csv')"
   ]
  },
  {
   "cell_type": "code",
   "execution_count": 3,
   "id": "50aea81f",
   "metadata": {},
   "outputs": [],
   "source": [
    "census.rename(columns={'Unnamed: 0':'Sno'},inplace=True)"
   ]
  },
  {
   "cell_type": "code",
   "execution_count": 4,
   "id": "6cacbfbd",
   "metadata": {},
   "outputs": [],
   "source": [
    "\n",
    "host='database-1.c84xomlsfolp.ap-south-1.rds.amazonaws.com'\n",
    "port=3306\n",
    "user='admin'\n",
    "password='root1234'\n",
    "database='Healthcare'\n",
    "\n",
    "conn = pymysql.connect(\n",
    "    host=host,\n",
    "    port=port,\n",
    "    user=user,\n",
    "    password=password,\n",
    "    database=database\n",
    ")"
   ]
  },
  {
   "cell_type": "code",
   "execution_count": 5,
   "id": "a89f8e84",
   "metadata": {},
   "outputs": [],
   "source": [
    "with conn.cursor() as cursor:\n",
    "    cursor.execute(\"\"\"\n",
    "        CREATE TABLE IF NOT EXISTS census (Sno int,StateorUT varchar(30),District varchar(30),Population float,Male float, Female float,Literate float,Literate_Male float,Literate_Female float, Households_Rural float,Households_Urban float,Households float, Young_and_Adult float,Middle_Aged float,Senior_Citizen float,Age_Not_Started float,primary key(StateorUT,District))\"\"\")\n",
    "    conn.commit()"
   ]
  },
  {
   "cell_type": "code",
   "execution_count": 6,
   "id": "339be6d0",
   "metadata": {},
   "outputs": [],
   "source": [
    "with conn.cursor() as cursor:\n",
    "    # generate a parameterized SQL insert statement\n",
    "    placeholders = ', '.join(['%s'] * len(census.columns))\n",
    "    sql = f\"INSERT INTO census VALUES ({placeholders})\"\n",
    "\n",
    "    # execute the insert statement with the data\n",
    "    data = [tuple(row) for row in census.values]\n",
    "    cursor.executemany(sql, data)\n",
    "    conn.commit()"
   ]
  },
  {
   "cell_type": "code",
   "execution_count": 7,
   "id": "7249efff",
   "metadata": {},
   "outputs": [],
   "source": [
    "housing=pd.read_csv('Clean_Data/housing_cleanState.csv')"
   ]
  },
  {
   "cell_type": "code",
   "execution_count": 8,
   "id": "b0432233",
   "metadata": {},
   "outputs": [],
   "source": [
    "with conn.cursor() as cursor:\n",
    "    cursor.execute(\"\"\"create table if not exists housing(District varchar(50),Households float, Households_Rural float, Households_Rural_Dilapidated float,\n",
    "       Households_Rural_Livable float, Households_Rural_Toilet_Premise float,\n",
    "       Households_Urban float, Households_Urban_Dilapidated float,\n",
    "       Households_Urban_Livable float, Households_Urban_Toilet_Premise float,\n",
    "       StateorUT varchar(30),\n",
    "       foreign key(StateorUT,District) references census(StateorUT,District))\"\"\")\n",
    "    conn.commit()"
   ]
  },
  {
   "cell_type": "code",
   "execution_count": 9,
   "id": "5907da75",
   "metadata": {},
   "outputs": [],
   "source": [
    "with conn.cursor() as cursor:\n",
    "    # generate a parameterized SQL insert statement\n",
    "    placeholders = ', '.join(['%s'] * len(housing.columns))\n",
    "    sql = f\"INSERT INTO housing VALUES ({placeholders})\"\n",
    "\n",
    "    # execute the insert statement with the data\n",
    "    data = [tuple(row) for row in housing.values]\n",
    "    cursor.executemany(sql, data)\n",
    "    conn.commit()"
   ]
  },
  {
   "cell_type": "code",
   "execution_count": 10,
   "id": "b382756e",
   "metadata": {},
   "outputs": [],
   "source": [
    "hospitals=pd.read_csv('Clean_Data/hospitals_clean.csv')"
   ]
  },
  {
   "cell_type": "code",
   "execution_count": 11,
   "id": "a602de3f",
   "metadata": {},
   "outputs": [],
   "source": [
    "hospitals.rename(columns={'Unnamed: 0':'S.no'},inplace=True)"
   ]
  },
  {
   "cell_type": "code",
   "execution_count": 12,
   "id": "fffa95c2",
   "metadata": {},
   "outputs": [],
   "source": [
    "with conn.cursor() as cursor:\n",
    "    cursor.execute(\"\"\"create table if not exists hospitals(Sno int, StateorUT varchar(50), Number_of_Primary_Health_Centers int,Community_Health_Centers int,Sub_DistrictorDivisional_Hospitals int, District_Hospitals int,Hospitals int, HospitalBeds int, Population int, primary key(StateorUT))\"\"\")\n",
    "    conn.commit()\n",
    "    "
   ]
  },
  {
   "cell_type": "code",
   "execution_count": 13,
   "id": "44bf67c3",
   "metadata": {},
   "outputs": [],
   "source": [
    "with conn.cursor() as cursor:\n",
    "    # generate a parameterized SQL insert statement\n",
    "    placeholders = ', '.join(['%s'] * len(hospitals.columns))\n",
    "    sql = f\"INSERT INTO hospitals VALUES ({placeholders})\"\n",
    "\n",
    "    # execute the insert statement with the data\n",
    "    data = [tuple(row) for row in hospitals.values]\n",
    "    cursor.executemany(sql, data)\n",
    "    conn.commit()"
   ]
  },
  {
   "cell_type": "code",
   "execution_count": 14,
   "id": "2ff1f60c",
   "metadata": {},
   "outputs": [],
   "source": [
    "government_hospital=pd.read_csv('Clean_Data/government_hospitals.csv')"
   ]
  },
  {
   "cell_type": "code",
   "execution_count": 15,
   "id": "7d726342",
   "metadata": {},
   "outputs": [],
   "source": [
    "government_hospital.at[36,'State/UT']='All India'"
   ]
  },
  {
   "cell_type": "code",
   "execution_count": 16,
   "id": "f49a3216",
   "metadata": {},
   "outputs": [],
   "source": [
    "government_hospital.fillna(0,inplace=True)"
   ]
  },
  {
   "cell_type": "code",
   "execution_count": 17,
   "id": "374d2c44",
   "metadata": {},
   "outputs": [],
   "source": [
    "government_hospital.rename(columns={'Unnamed: 0':'S.no'},inplace=True)"
   ]
  },
  {
   "cell_type": "code",
   "execution_count": 18,
   "id": "6481d24a",
   "metadata": {},
   "outputs": [],
   "source": [
    "with conn.cursor() as cursor:\n",
    "    cursor.execute(\"\"\"create table if not exists government_hospitals(Sno int, StateorUT varchar(50), Rural_Government_Hospitals int,Rural_Government_Beds int,Urban_Government_Hospitals int,Urban_Government_Beds int,Last_Updated varchar(50),bedsum int, Hospital_Sum int, foreign key(StateorUT) references hospitals(StateorUT))\"\"\")\n",
    "    conn.commit()"
   ]
  },
  {
   "cell_type": "code",
   "execution_count": 19,
   "id": "7d346983",
   "metadata": {},
   "outputs": [],
   "source": [
    "with conn.cursor() as cursor:\n",
    "    # generate a parameterized SQL insert statement\n",
    "    placeholders = ', '.join(['%s'] * len(government_hospital.columns))\n",
    "    sql = f\"INSERT INTO government_hospitals VALUES ({placeholders})\"\n",
    "\n",
    "    # execute the insert statement with the data\n",
    "    data = [tuple(row) for row in government_hospital.values]\n",
    "    cursor.executemany(sql, data)\n",
    "    conn.commit()"
   ]
  },
  {
   "cell_type": "code",
   "execution_count": 20,
   "id": "a614d22a",
   "metadata": {},
   "outputs": [],
   "source": [
    "cursor=conn.cursor()"
   ]
  },
  {
   "cell_type": "code",
   "execution_count": 21,
   "id": "7fcfb307",
   "metadata": {},
   "outputs": [
    {
     "data": {
      "text/plain": [
       "640"
      ]
     },
     "execution_count": 21,
     "metadata": {},
     "output_type": "execute_result"
    }
   ],
   "source": [
    "cursor.execute(\"select * from census join housing on census.stateorut=housing.stateorut and census.district=housing.district\")"
   ]
  },
  {
   "cell_type": "code",
   "execution_count": 22,
   "id": "c0717c1e",
   "metadata": {},
   "outputs": [
    {
     "data": {
      "text/plain": [
       "37"
      ]
     },
     "execution_count": 22,
     "metadata": {},
     "output_type": "execute_result"
    }
   ],
   "source": [
    "cursor.execute(\"select gh.StateorUT, gh.Hospital_Sum, h.population from hospitals h join government_hospitals gh on gh.StateorUT=h.StateorUT;\")"
   ]
  },
  {
   "cell_type": "code",
   "execution_count": 23,
   "id": "ffeca10e",
   "metadata": {},
   "outputs": [],
   "source": [
    "query=\"select StateorUT,district,households-(Households_Urban_Toilet_Premise+Households_Rural_Toilet_Premise) as No_toilet_on_premise from housing where StateorUT='Bihar';\""
   ]
  },
  {
   "cell_type": "code",
   "execution_count": 24,
   "id": "644f9a46",
   "metadata": {},
   "outputs": [
    {
     "data": {
      "text/plain": [
       "38"
      ]
     },
     "execution_count": 24,
     "metadata": {},
     "output_type": "execute_result"
    }
   ],
   "source": [
    "cursor.execute(query)"
   ]
  },
  {
   "cell_type": "code",
   "execution_count": 25,
   "id": "d709afc4",
   "metadata": {},
   "outputs": [],
   "source": [
    "selects=cursor.fetchall()"
   ]
  },
  {
   "cell_type": "code",
   "execution_count": 26,
   "id": "55f792a7",
   "metadata": {},
   "outputs": [],
   "source": [
    "df=pd.DataFrame(selects,columns=['State','District','No_toilet_on_premise'])"
   ]
  },
  {
   "cell_type": "code",
   "execution_count": 27,
   "id": "8e371d6c",
   "metadata": {},
   "outputs": [],
   "source": [
    "df['No_toilet_on_premise']=round(df['No_toilet_on_premise'])"
   ]
  },
  {
   "cell_type": "code",
   "execution_count": 28,
   "id": "1c51678b",
   "metadata": {},
   "outputs": [
    {
     "data": {
      "text/html": [
       "<div>\n",
       "<style scoped>\n",
       "    .dataframe tbody tr th:only-of-type {\n",
       "        vertical-align: middle;\n",
       "    }\n",
       "\n",
       "    .dataframe tbody tr th {\n",
       "        vertical-align: top;\n",
       "    }\n",
       "\n",
       "    .dataframe thead th {\n",
       "        text-align: right;\n",
       "    }\n",
       "</style>\n",
       "<table border=\"1\" class=\"dataframe\">\n",
       "  <thead>\n",
       "    <tr style=\"text-align: right;\">\n",
       "      <th></th>\n",
       "      <th>State</th>\n",
       "      <th>District</th>\n",
       "      <th>No_toilet_on_premise</th>\n",
       "    </tr>\n",
       "  </thead>\n",
       "  <tbody>\n",
       "    <tr>\n",
       "      <th>0</th>\n",
       "      <td>Bihar</td>\n",
       "      <td>Araria</td>\n",
       "      <td>553281.0</td>\n",
       "    </tr>\n",
       "    <tr>\n",
       "      <th>1</th>\n",
       "      <td>Bihar</td>\n",
       "      <td>Arwal</td>\n",
       "      <td>110923.0</td>\n",
       "    </tr>\n",
       "    <tr>\n",
       "      <th>2</th>\n",
       "      <td>Bihar</td>\n",
       "      <td>Aurangabad</td>\n",
       "      <td>358707.0</td>\n",
       "    </tr>\n",
       "    <tr>\n",
       "      <th>3</th>\n",
       "      <td>Bihar</td>\n",
       "      <td>Banka</td>\n",
       "      <td>324897.0</td>\n",
       "    </tr>\n",
       "    <tr>\n",
       "      <th>4</th>\n",
       "      <td>Bihar</td>\n",
       "      <td>Begusarai</td>\n",
       "      <td>545670.0</td>\n",
       "    </tr>\n",
       "  </tbody>\n",
       "</table>\n",
       "</div>"
      ],
      "text/plain": [
       "   State    District  No_toilet_on_premise\n",
       "0  Bihar      Araria              553281.0\n",
       "1  Bihar       Arwal              110923.0\n",
       "2  Bihar  Aurangabad              358707.0\n",
       "3  Bihar       Banka              324897.0\n",
       "4  Bihar   Begusarai              545670.0"
      ]
     },
     "execution_count": 28,
     "metadata": {},
     "output_type": "execute_result"
    }
   ],
   "source": [
    "df.head()"
   ]
  },
  {
   "cell_type": "markdown",
   "id": "67b791a1",
   "metadata": {},
   "source": [
    "### Problem Statement 21: \n",
    "\n",
    "Create stored functions for the following:\n"
   ]
  },
  {
   "cell_type": "markdown",
   "id": "0f59a64f",
   "metadata": {},
   "source": [
    "1) get_population_district"
   ]
  },
  {
   "cell_type": "code",
   "execution_count": 29,
   "id": "606a65ef",
   "metadata": {},
   "outputs": [],
   "source": [
    "query='CREATE PROCEDURE Get_population_district(Dist VARCHAR(50)) BEGIN SELECT sum(Population) from census where District=dist; END;'"
   ]
  },
  {
   "cell_type": "code",
   "execution_count": 30,
   "id": "8b99b082",
   "metadata": {},
   "outputs": [],
   "source": [
    "cursor=conn.cursor()"
   ]
  },
  {
   "cell_type": "code",
   "execution_count": 31,
   "id": "bc3841ab",
   "metadata": {},
   "outputs": [
    {
     "data": {
      "text/plain": [
       "0"
      ]
     },
     "execution_count": 31,
     "metadata": {},
     "output_type": "execute_result"
    }
   ],
   "source": [
    "cursor.execute(query)"
   ]
  },
  {
   "cell_type": "code",
   "execution_count": 32,
   "id": "983e4a44",
   "metadata": {},
   "outputs": [],
   "source": [
    "query=\"call Get_population_district('Guntur')\""
   ]
  },
  {
   "cell_type": "code",
   "execution_count": 33,
   "id": "6582b1cc",
   "metadata": {},
   "outputs": [
    {
     "data": {
      "text/plain": [
       "1"
      ]
     },
     "execution_count": 33,
     "metadata": {},
     "output_type": "execute_result"
    }
   ],
   "source": [
    "cursor.execute(query)"
   ]
  },
  {
   "cell_type": "code",
   "execution_count": 34,
   "id": "6b66f1ce",
   "metadata": {},
   "outputs": [],
   "source": [
    "select=cursor.fetchall()"
   ]
  },
  {
   "cell_type": "code",
   "execution_count": 35,
   "id": "e5886f65",
   "metadata": {},
   "outputs": [
    {
     "name": "stdout",
     "output_type": "stream",
     "text": [
      "population of district is 4887813.0\n"
     ]
    }
   ],
   "source": [
    "print('population of district is',select[0][0])"
   ]
  },
  {
   "cell_type": "markdown",
   "id": "bec030b3",
   "metadata": {},
   "source": [
    "### 2) get_population"
   ]
  },
  {
   "cell_type": "code",
   "execution_count": 36,
   "id": "0a424bcb",
   "metadata": {},
   "outputs": [],
   "source": [
    "query2='CREATE PROCEDURE get_population(state varchar(50)) begin select District,sum(Population) from census where StateorUT=state group by District; END;'"
   ]
  },
  {
   "cell_type": "code",
   "execution_count": 37,
   "id": "8e8905d3",
   "metadata": {},
   "outputs": [
    {
     "data": {
      "text/plain": [
       "0"
      ]
     },
     "execution_count": 37,
     "metadata": {},
     "output_type": "execute_result"
    }
   ],
   "source": [
    "cursor.execute(query2)"
   ]
  },
  {
   "cell_type": "code",
   "execution_count": 38,
   "id": "ea89e284",
   "metadata": {},
   "outputs": [],
   "source": [
    "query2=\"call get_population('Karnataka')\""
   ]
  },
  {
   "cell_type": "code",
   "execution_count": 39,
   "id": "467db23d",
   "metadata": {},
   "outputs": [
    {
     "data": {
      "text/plain": [
       "30"
      ]
     },
     "execution_count": 39,
     "metadata": {},
     "output_type": "execute_result"
    }
   ],
   "source": [
    "cursor.execute(query2)"
   ]
  },
  {
   "cell_type": "code",
   "execution_count": 40,
   "id": "019497e0",
   "metadata": {},
   "outputs": [],
   "source": [
    "select=cursor.fetchall()"
   ]
  },
  {
   "cell_type": "code",
   "execution_count": 41,
   "id": "9a40facb",
   "metadata": {},
   "outputs": [],
   "source": [
    "df=pd.DataFrame(select,columns=['District','Population'])"
   ]
  },
  {
   "cell_type": "code",
   "execution_count": 42,
   "id": "2f11b115",
   "metadata": {},
   "outputs": [
    {
     "data": {
      "text/html": [
       "<div>\n",
       "<style scoped>\n",
       "    .dataframe tbody tr th:only-of-type {\n",
       "        vertical-align: middle;\n",
       "    }\n",
       "\n",
       "    .dataframe tbody tr th {\n",
       "        vertical-align: top;\n",
       "    }\n",
       "\n",
       "    .dataframe thead th {\n",
       "        text-align: right;\n",
       "    }\n",
       "</style>\n",
       "<table border=\"1\" class=\"dataframe\">\n",
       "  <thead>\n",
       "    <tr style=\"text-align: right;\">\n",
       "      <th></th>\n",
       "      <th>District</th>\n",
       "      <th>Population</th>\n",
       "    </tr>\n",
       "  </thead>\n",
       "  <tbody>\n",
       "    <tr>\n",
       "      <th>0</th>\n",
       "      <td>Bagalkot</td>\n",
       "      <td>1889752.0</td>\n",
       "    </tr>\n",
       "    <tr>\n",
       "      <th>1</th>\n",
       "      <td>Bangalore</td>\n",
       "      <td>9621551.0</td>\n",
       "    </tr>\n",
       "    <tr>\n",
       "      <th>2</th>\n",
       "      <td>Bangalore Rural</td>\n",
       "      <td>990923.0</td>\n",
       "    </tr>\n",
       "    <tr>\n",
       "      <th>3</th>\n",
       "      <td>Belgaum</td>\n",
       "      <td>4779661.0</td>\n",
       "    </tr>\n",
       "    <tr>\n",
       "      <th>4</th>\n",
       "      <td>Bellary</td>\n",
       "      <td>2452595.0</td>\n",
       "    </tr>\n",
       "  </tbody>\n",
       "</table>\n",
       "</div>"
      ],
      "text/plain": [
       "          District  Population\n",
       "0         Bagalkot   1889752.0\n",
       "1        Bangalore   9621551.0\n",
       "2  Bangalore Rural    990923.0\n",
       "3          Belgaum   4779661.0\n",
       "4          Bellary   2452595.0"
      ]
     },
     "execution_count": 42,
     "metadata": {},
     "output_type": "execute_result"
    }
   ],
   "source": [
    "df.head()"
   ]
  },
  {
   "cell_type": "markdown",
   "id": "43512cee",
   "metadata": {},
   "source": [
    "### 3) Senior citizen Population"
   ]
  },
  {
   "cell_type": "code",
   "execution_count": 43,
   "id": "ca4c1679",
   "metadata": {},
   "outputs": [],
   "source": [
    "query='CREATE PROCEDURE senior_citizen_population(state varchar(50)) begin select sum(Senior_Citizen) from census where StateorUT=state; END;'"
   ]
  },
  {
   "cell_type": "code",
   "execution_count": 44,
   "id": "924c0791",
   "metadata": {},
   "outputs": [
    {
     "data": {
      "text/plain": [
       "0"
      ]
     },
     "execution_count": 44,
     "metadata": {},
     "output_type": "execute_result"
    }
   ],
   "source": [
    "cursor.execute(query)"
   ]
  },
  {
   "cell_type": "code",
   "execution_count": 45,
   "id": "7b09f4db",
   "metadata": {},
   "outputs": [],
   "source": [
    "query2='CALL senior_citizen_population(\"Andhra Pradesh\")'"
   ]
  },
  {
   "cell_type": "code",
   "execution_count": 46,
   "id": "f0b886f6",
   "metadata": {},
   "outputs": [
    {
     "data": {
      "text/plain": [
       "1"
      ]
     },
     "execution_count": 46,
     "metadata": {},
     "output_type": "execute_result"
    }
   ],
   "source": [
    "cursor.execute(query2)"
   ]
  },
  {
   "cell_type": "code",
   "execution_count": 47,
   "id": "2ed0253d",
   "metadata": {},
   "outputs": [],
   "source": [
    "select=cursor.fetchall()"
   ]
  },
  {
   "cell_type": "code",
   "execution_count": 48,
   "id": "b558a3e1",
   "metadata": {},
   "outputs": [
    {
     "name": "stdout",
     "output_type": "stream",
     "text": [
      "Senior citizen population of Andhra Pradesh 9034557.0\n"
     ]
    }
   ],
   "source": [
    "print(\"Senior citizen population of Andhra Pradesh\",select[0][0])"
   ]
  },
  {
   "cell_type": "markdown",
   "id": "de08b033",
   "metadata": {},
   "source": [
    "### 4) get_hospital_beds"
   ]
  },
  {
   "cell_type": "code",
   "execution_count": 49,
   "id": "a25ed765",
   "metadata": {},
   "outputs": [],
   "source": [
    "query4='CREATE PROCEDURE get_hospital_beds(state varchar(50)) begin select HospitalBeds from hospitals where StateorUT=state; END;'"
   ]
  },
  {
   "cell_type": "code",
   "execution_count": 50,
   "id": "21b83e1c",
   "metadata": {},
   "outputs": [
    {
     "data": {
      "text/plain": [
       "0"
      ]
     },
     "execution_count": 50,
     "metadata": {},
     "output_type": "execute_result"
    }
   ],
   "source": [
    "cursor.execute(query4)"
   ]
  },
  {
   "cell_type": "code",
   "execution_count": 51,
   "id": "0bfbdcb7",
   "metadata": {},
   "outputs": [],
   "source": [
    "query4='call get_hospital_beds(\"Bihar\")'"
   ]
  },
  {
   "cell_type": "code",
   "execution_count": 52,
   "id": "9ef1e029",
   "metadata": {},
   "outputs": [
    {
     "data": {
      "text/plain": [
       "1"
      ]
     },
     "execution_count": 52,
     "metadata": {},
     "output_type": "execute_result"
    }
   ],
   "source": [
    "cursor.execute(query4)"
   ]
  },
  {
   "cell_type": "code",
   "execution_count": 53,
   "id": "4c1683ce",
   "metadata": {},
   "outputs": [],
   "source": [
    "select=cursor.fetchall()"
   ]
  },
  {
   "cell_type": "code",
   "execution_count": 54,
   "id": "a68a02f4",
   "metadata": {},
   "outputs": [
    {
     "name": "stdout",
     "output_type": "stream",
     "text": [
      "17796\n"
     ]
    }
   ],
   "source": [
    "print(select[0][0])"
   ]
  },
  {
   "cell_type": "markdown",
   "id": "07949127",
   "metadata": {},
   "source": [
    "### 5) Get government hospital beds"
   ]
  },
  {
   "cell_type": "code",
   "execution_count": 55,
   "id": "1cd3c416",
   "metadata": {},
   "outputs": [],
   "source": [
    "query5='CREATE PROCEDURE get_govt_hospital_beds(state varchar(50)) begin select bedsum from government_hospitals where StateorUT=state; END;'"
   ]
  },
  {
   "cell_type": "code",
   "execution_count": 56,
   "id": "9cb9ef44",
   "metadata": {},
   "outputs": [
    {
     "data": {
      "text/plain": [
       "0"
      ]
     },
     "execution_count": 56,
     "metadata": {},
     "output_type": "execute_result"
    }
   ],
   "source": [
    "cursor.execute(query5)"
   ]
  },
  {
   "cell_type": "code",
   "execution_count": 57,
   "id": "dd7dcb2b",
   "metadata": {},
   "outputs": [],
   "source": [
    "query5='call get_govt_hospital_beds(\"Tamil Nadu\")'"
   ]
  },
  {
   "cell_type": "code",
   "execution_count": 58,
   "id": "8526f1ff",
   "metadata": {},
   "outputs": [
    {
     "data": {
      "text/plain": [
       "1"
      ]
     },
     "execution_count": 58,
     "metadata": {},
     "output_type": "execute_result"
    }
   ],
   "source": [
    "cursor.execute(query5)"
   ]
  },
  {
   "cell_type": "code",
   "execution_count": 59,
   "id": "3f41b1e8",
   "metadata": {},
   "outputs": [
    {
     "name": "stdout",
     "output_type": "stream",
     "text": [
      "Government Hospital Beds in Tamil Nadu are 77532\n"
     ]
    }
   ],
   "source": [
    "select=cursor.fetchall()\n",
    "print(\"Government Hospital Beds in Tamil Nadu are\",select[0][0])"
   ]
  },
  {
   "cell_type": "markdown",
   "id": "745750fb",
   "metadata": {},
   "source": [
    "### 6) Beds per 1 lakh people"
   ]
  },
  {
   "cell_type": "code",
   "execution_count": 60,
   "id": "6d67e365",
   "metadata": {},
   "outputs": [],
   "source": [
    "query6='CREATE PROCEDURE beds_per_lakh(state varchar(50)) begin select round((HospitalBeds/Population)*100000) from hospitals where StateorUT=state; END;'"
   ]
  },
  {
   "cell_type": "code",
   "execution_count": 61,
   "id": "4f41b6a1",
   "metadata": {},
   "outputs": [
    {
     "data": {
      "text/plain": [
       "0"
      ]
     },
     "execution_count": 61,
     "metadata": {},
     "output_type": "execute_result"
    }
   ],
   "source": [
    "cursor.execute(query6)"
   ]
  },
  {
   "cell_type": "code",
   "execution_count": 62,
   "id": "c531bfd2",
   "metadata": {},
   "outputs": [],
   "source": [
    "query6='call beds_per_lakh(\"Tamil Nadu\")'"
   ]
  },
  {
   "cell_type": "code",
   "execution_count": 63,
   "id": "6f429a56",
   "metadata": {},
   "outputs": [
    {
     "name": "stdout",
     "output_type": "stream",
     "text": [
      "beds per lakh in Tamil Nadu 101\n"
     ]
    }
   ],
   "source": [
    "cursor.execute(query6)\n",
    "select=cursor.fetchall()\n",
    "for x in select:\n",
    "    print(\"beds per lakh in Tamil Nadu\",x[0])"
   ]
  },
  {
   "cell_type": "markdown",
   "id": "3f5fea96",
   "metadata": {},
   "source": [
    "### 7. GOVERNMENT BEDS PER 1 LAKH PEOPLE"
   ]
  },
  {
   "cell_type": "code",
   "execution_count": 64,
   "id": "49c9016d",
   "metadata": {},
   "outputs": [],
   "source": [
    "query7='CREATE PROCEDURE govt_beds_per_lakh(state varchar(50)) begin select round((gh.bedsum/h.Population)*100000) from hospitals h join government_hospitals gh on gh.StateorUT=h.StateorUT where gh.StateorUT=state; END;'"
   ]
  },
  {
   "cell_type": "code",
   "execution_count": 65,
   "id": "072ef2a9",
   "metadata": {},
   "outputs": [
    {
     "data": {
      "text/plain": [
       "0"
      ]
     },
     "execution_count": 65,
     "metadata": {},
     "output_type": "execute_result"
    }
   ],
   "source": [
    "cursor.execute(query7)"
   ]
  },
  {
   "cell_type": "code",
   "execution_count": 66,
   "id": "ee7c017e",
   "metadata": {},
   "outputs": [],
   "source": [
    "query7='call govt_beds_per_lakh(\"Bihar\")'"
   ]
  },
  {
   "cell_type": "code",
   "execution_count": 67,
   "id": "bf58006b",
   "metadata": {},
   "outputs": [
    {
     "name": "stdout",
     "output_type": "stream",
     "text": [
      "GOVERNMENT BEDS PER 1 LAKH PEOPLE IN TAMIL NADU 12\n"
     ]
    }
   ],
   "source": [
    "cursor.execute(query7)\n",
    "select=cursor.fetchall()\n",
    "for x in select:\n",
    "    print(\"GOVERNMENT BEDS PER 1 LAKH PEOPLE IN TAMIL NADU\",x[0])"
   ]
  },
  {
   "cell_type": "markdown",
   "id": "5aa6c006",
   "metadata": {},
   "source": [
    "### 23) \n",
    "The Government wants to run a scheme that would help people build in-premise toilets. For that purpose, a secretary has requested a district-wise report using the census data.\n",
    "\n",
    "Using a stored procedure, Create a district-wise report that shows the total population of each district, the total number of households in the district, the number of households that do NOT have on-premise toilets, and the percentage of the number of households that do NOT toilets in premise to the total number of households. Sort the data in a way that is most useful for the secretary."
   ]
  },
  {
   "cell_type": "code",
   "execution_count": 68,
   "id": "4707f133",
   "metadata": {},
   "outputs": [],
   "source": [
    "census=pd.read_csv('Clean_Data/clean_census.csv')\n"
   ]
  },
  {
   "cell_type": "code",
   "execution_count": 69,
   "id": "6ef3df0e",
   "metadata": {},
   "outputs": [],
   "source": [
    "census.drop('Unnamed: 0',axis=1,inplace=True)"
   ]
  },
  {
   "cell_type": "code",
   "execution_count": 70,
   "id": "799fc954",
   "metadata": {},
   "outputs": [],
   "source": [
    "districtList=census['District'].tolist()"
   ]
  },
  {
   "cell_type": "code",
   "execution_count": 71,
   "id": "f775987b",
   "metadata": {},
   "outputs": [],
   "source": [
    "df=census[['District','Population','Households']]"
   ]
  },
  {
   "cell_type": "code",
   "execution_count": 72,
   "id": "d9f815cb",
   "metadata": {},
   "outputs": [],
   "source": [
    "query='CREATE PROCEDURE not_on_premise(districts varchar(30)) begin select District,Households-(Households_Rural_Toilet_Premise+Households_Urban_Toilet_Premise) as no_on_premise from housing where District=districts; END;'"
   ]
  },
  {
   "cell_type": "code",
   "execution_count": 73,
   "id": "92b63b2e",
   "metadata": {},
   "outputs": [
    {
     "data": {
      "text/plain": [
       "0"
      ]
     },
     "execution_count": 73,
     "metadata": {},
     "output_type": "execute_result"
    }
   ],
   "source": [
    "cursor.execute(query)"
   ]
  },
  {
   "cell_type": "code",
   "execution_count": 74,
   "id": "58d1d60f",
   "metadata": {},
   "outputs": [
    {
     "data": {
      "text/plain": [
       "1"
      ]
     },
     "execution_count": 74,
     "metadata": {},
     "output_type": "execute_result"
    }
   ],
   "source": [
    "cursor.execute('call not_on_premise(\"Nashik\")')"
   ]
  },
  {
   "cell_type": "code",
   "execution_count": 75,
   "id": "e43a189c",
   "metadata": {},
   "outputs": [
    {
     "data": {
      "text/plain": [
       "519850.71875"
      ]
     },
     "execution_count": 75,
     "metadata": {},
     "output_type": "execute_result"
    }
   ],
   "source": [
    "x=cursor.fetchall()\n",
    "x[0][1]"
   ]
  },
  {
   "cell_type": "code",
   "execution_count": 76,
   "id": "18bb06c0",
   "metadata": {},
   "outputs": [
    {
     "name": "stderr",
     "output_type": "stream",
     "text": [
      "C:\\Users\\futurense\\AppData\\Local\\Temp\\ipykernel_4748\\1057041325.py:4: SettingWithCopyWarning: \n",
      "A value is trying to be set on a copy of a slice from a DataFrame.\n",
      "Try using .loc[row_indexer,col_indexer] = value instead\n",
      "\n",
      "See the caveats in the documentation: https://pandas.pydata.org/pandas-docs/stable/user_guide/indexing.html#returning-a-view-versus-a-copy\n",
      "  df.loc[df['District']==x,'Households_not_on_premise']=rows[0][1]\n"
     ]
    }
   ],
   "source": [
    "for x in districtList:\n",
    "    cursor.callproc('not_on_premise', [x])\n",
    "    rows = cursor.fetchall()\n",
    "    df.loc[df['District']==x,'Households_not_on_premise']=rows[0][1]"
   ]
  },
  {
   "cell_type": "code",
   "execution_count": 77,
   "id": "3da52efc",
   "metadata": {},
   "outputs": [
    {
     "data": {
      "text/html": [
       "<div>\n",
       "<style scoped>\n",
       "    .dataframe tbody tr th:only-of-type {\n",
       "        vertical-align: middle;\n",
       "    }\n",
       "\n",
       "    .dataframe tbody tr th {\n",
       "        vertical-align: top;\n",
       "    }\n",
       "\n",
       "    .dataframe thead th {\n",
       "        text-align: right;\n",
       "    }\n",
       "</style>\n",
       "<table border=\"1\" class=\"dataframe\">\n",
       "  <thead>\n",
       "    <tr style=\"text-align: right;\">\n",
       "      <th></th>\n",
       "      <th>District</th>\n",
       "      <th>Population</th>\n",
       "      <th>Households</th>\n",
       "      <th>Households_not_on_premise</th>\n",
       "    </tr>\n",
       "  </thead>\n",
       "  <tbody>\n",
       "    <tr>\n",
       "      <th>0</th>\n",
       "      <td>Kupwara</td>\n",
       "      <td>870354.0</td>\n",
       "      <td>181664.0</td>\n",
       "      <td>87883.167969</td>\n",
       "    </tr>\n",
       "    <tr>\n",
       "      <th>1</th>\n",
       "      <td>Badgam</td>\n",
       "      <td>753745.0</td>\n",
       "      <td>187839.0</td>\n",
       "      <td>29438.630859</td>\n",
       "    </tr>\n",
       "    <tr>\n",
       "      <th>2</th>\n",
       "      <td>Leh(Ladakh)</td>\n",
       "      <td>133487.0</td>\n",
       "      <td>54394.0</td>\n",
       "      <td>5127.388672</td>\n",
       "    </tr>\n",
       "    <tr>\n",
       "      <th>3</th>\n",
       "      <td>Kargil</td>\n",
       "      <td>140802.0</td>\n",
       "      <td>48144.0</td>\n",
       "      <td>1486.189941</td>\n",
       "    </tr>\n",
       "    <tr>\n",
       "      <th>4</th>\n",
       "      <td>Punch</td>\n",
       "      <td>476835.0</td>\n",
       "      <td>147408.0</td>\n",
       "      <td>117807.400391</td>\n",
       "    </tr>\n",
       "    <tr>\n",
       "      <th>...</th>\n",
       "      <td>...</td>\n",
       "      <td>...</td>\n",
       "      <td>...</td>\n",
       "      <td>...</td>\n",
       "    </tr>\n",
       "    <tr>\n",
       "      <th>635</th>\n",
       "      <td>Mahe</td>\n",
       "      <td>41816.0</td>\n",
       "      <td>12110.0</td>\n",
       "      <td>3027.500000</td>\n",
       "    </tr>\n",
       "    <tr>\n",
       "      <th>636</th>\n",
       "      <td>Karaikal</td>\n",
       "      <td>200222.0</td>\n",
       "      <td>69333.0</td>\n",
       "      <td>28766.880859</td>\n",
       "    </tr>\n",
       "    <tr>\n",
       "      <th>637</th>\n",
       "      <td>Nicobars</td>\n",
       "      <td>36842.0</td>\n",
       "      <td>15958.0</td>\n",
       "      <td>8361.992188</td>\n",
       "    </tr>\n",
       "    <tr>\n",
       "      <th>638</th>\n",
       "      <td>North  and Middle Andaman</td>\n",
       "      <td>105597.0</td>\n",
       "      <td>40185.0</td>\n",
       "      <td>20807.586304</td>\n",
       "    </tr>\n",
       "    <tr>\n",
       "      <th>639</th>\n",
       "      <td>South Andaman</td>\n",
       "      <td>238142.0</td>\n",
       "      <td>85532.0</td>\n",
       "      <td>18497.033203</td>\n",
       "    </tr>\n",
       "  </tbody>\n",
       "</table>\n",
       "<p>640 rows × 4 columns</p>\n",
       "</div>"
      ],
      "text/plain": [
       "                      District  Population  Households  \\\n",
       "0                      Kupwara    870354.0    181664.0   \n",
       "1                       Badgam    753745.0    187839.0   \n",
       "2                  Leh(Ladakh)    133487.0     54394.0   \n",
       "3                       Kargil    140802.0     48144.0   \n",
       "4                        Punch    476835.0    147408.0   \n",
       "..                         ...         ...         ...   \n",
       "635                       Mahe     41816.0     12110.0   \n",
       "636                   Karaikal    200222.0     69333.0   \n",
       "637                   Nicobars     36842.0     15958.0   \n",
       "638  North  and Middle Andaman    105597.0     40185.0   \n",
       "639              South Andaman    238142.0     85532.0   \n",
       "\n",
       "     Households_not_on_premise  \n",
       "0                 87883.167969  \n",
       "1                 29438.630859  \n",
       "2                  5127.388672  \n",
       "3                  1486.189941  \n",
       "4                117807.400391  \n",
       "..                         ...  \n",
       "635                3027.500000  \n",
       "636               28766.880859  \n",
       "637                8361.992188  \n",
       "638               20807.586304  \n",
       "639               18497.033203  \n",
       "\n",
       "[640 rows x 4 columns]"
      ]
     },
     "execution_count": 77,
     "metadata": {},
     "output_type": "execute_result"
    }
   ],
   "source": [
    "df"
   ]
  },
  {
   "cell_type": "code",
   "execution_count": 78,
   "id": "9dde8baf",
   "metadata": {},
   "outputs": [
    {
     "name": "stderr",
     "output_type": "stream",
     "text": [
      "C:\\Users\\futurense\\AppData\\Local\\Temp\\ipykernel_4748\\1091310343.py:1: SettingWithCopyWarning: \n",
      "A value is trying to be set on a copy of a slice from a DataFrame.\n",
      "Try using .loc[row_indexer,col_indexer] = value instead\n",
      "\n",
      "See the caveats in the documentation: https://pandas.pydata.org/pandas-docs/stable/user_guide/indexing.html#returning-a-view-versus-a-copy\n",
      "  df['Not percent']=(df['Households_not_on_premise']/df['Households'])*100\n"
     ]
    }
   ],
   "source": [
    " df['Not percent']=(df['Households_not_on_premise']/df['Households'])*100"
   ]
  },
  {
   "cell_type": "code",
   "execution_count": 79,
   "id": "da402a8f",
   "metadata": {},
   "outputs": [
    {
     "data": {
      "text/html": [
       "<div>\n",
       "<style scoped>\n",
       "    .dataframe tbody tr th:only-of-type {\n",
       "        vertical-align: middle;\n",
       "    }\n",
       "\n",
       "    .dataframe tbody tr th {\n",
       "        vertical-align: top;\n",
       "    }\n",
       "\n",
       "    .dataframe thead th {\n",
       "        text-align: right;\n",
       "    }\n",
       "</style>\n",
       "<table border=\"1\" class=\"dataframe\">\n",
       "  <thead>\n",
       "    <tr style=\"text-align: right;\">\n",
       "      <th></th>\n",
       "      <th>District</th>\n",
       "      <th>Population</th>\n",
       "      <th>Households</th>\n",
       "      <th>Households_not_on_premise</th>\n",
       "      <th>Not percent</th>\n",
       "    </tr>\n",
       "  </thead>\n",
       "  <tbody>\n",
       "    <tr>\n",
       "      <th>0</th>\n",
       "      <td>Kupwara</td>\n",
       "      <td>870354.0</td>\n",
       "      <td>181664.0</td>\n",
       "      <td>87883.167969</td>\n",
       "      <td>48.376766</td>\n",
       "    </tr>\n",
       "    <tr>\n",
       "      <th>1</th>\n",
       "      <td>Badgam</td>\n",
       "      <td>753745.0</td>\n",
       "      <td>187839.0</td>\n",
       "      <td>29438.630859</td>\n",
       "      <td>15.672268</td>\n",
       "    </tr>\n",
       "    <tr>\n",
       "      <th>2</th>\n",
       "      <td>Leh(Ladakh)</td>\n",
       "      <td>133487.0</td>\n",
       "      <td>54394.0</td>\n",
       "      <td>5127.388672</td>\n",
       "      <td>9.426386</td>\n",
       "    </tr>\n",
       "    <tr>\n",
       "      <th>3</th>\n",
       "      <td>Kargil</td>\n",
       "      <td>140802.0</td>\n",
       "      <td>48144.0</td>\n",
       "      <td>1486.189941</td>\n",
       "      <td>3.086968</td>\n",
       "    </tr>\n",
       "    <tr>\n",
       "      <th>4</th>\n",
       "      <td>Punch</td>\n",
       "      <td>476835.0</td>\n",
       "      <td>147408.0</td>\n",
       "      <td>117807.400391</td>\n",
       "      <td>79.919272</td>\n",
       "    </tr>\n",
       "    <tr>\n",
       "      <th>...</th>\n",
       "      <td>...</td>\n",
       "      <td>...</td>\n",
       "      <td>...</td>\n",
       "      <td>...</td>\n",
       "      <td>...</td>\n",
       "    </tr>\n",
       "    <tr>\n",
       "      <th>635</th>\n",
       "      <td>Mahe</td>\n",
       "      <td>41816.0</td>\n",
       "      <td>12110.0</td>\n",
       "      <td>3027.500000</td>\n",
       "      <td>25.000000</td>\n",
       "    </tr>\n",
       "    <tr>\n",
       "      <th>636</th>\n",
       "      <td>Karaikal</td>\n",
       "      <td>200222.0</td>\n",
       "      <td>69333.0</td>\n",
       "      <td>28766.880859</td>\n",
       "      <td>41.490893</td>\n",
       "    </tr>\n",
       "    <tr>\n",
       "      <th>637</th>\n",
       "      <td>Nicobars</td>\n",
       "      <td>36842.0</td>\n",
       "      <td>15958.0</td>\n",
       "      <td>8361.992188</td>\n",
       "      <td>52.400001</td>\n",
       "    </tr>\n",
       "    <tr>\n",
       "      <th>638</th>\n",
       "      <td>North  and Middle Andaman</td>\n",
       "      <td>105597.0</td>\n",
       "      <td>40185.0</td>\n",
       "      <td>20807.586304</td>\n",
       "      <td>51.779486</td>\n",
       "    </tr>\n",
       "    <tr>\n",
       "      <th>639</th>\n",
       "      <td>South Andaman</td>\n",
       "      <td>238142.0</td>\n",
       "      <td>85532.0</td>\n",
       "      <td>18497.033203</td>\n",
       "      <td>21.625863</td>\n",
       "    </tr>\n",
       "  </tbody>\n",
       "</table>\n",
       "<p>640 rows × 5 columns</p>\n",
       "</div>"
      ],
      "text/plain": [
       "                      District  Population  Households  \\\n",
       "0                      Kupwara    870354.0    181664.0   \n",
       "1                       Badgam    753745.0    187839.0   \n",
       "2                  Leh(Ladakh)    133487.0     54394.0   \n",
       "3                       Kargil    140802.0     48144.0   \n",
       "4                        Punch    476835.0    147408.0   \n",
       "..                         ...         ...         ...   \n",
       "635                       Mahe     41816.0     12110.0   \n",
       "636                   Karaikal    200222.0     69333.0   \n",
       "637                   Nicobars     36842.0     15958.0   \n",
       "638  North  and Middle Andaman    105597.0     40185.0   \n",
       "639              South Andaman    238142.0     85532.0   \n",
       "\n",
       "     Households_not_on_premise  Not percent  \n",
       "0                 87883.167969    48.376766  \n",
       "1                 29438.630859    15.672268  \n",
       "2                  5127.388672     9.426386  \n",
       "3                  1486.189941     3.086968  \n",
       "4                117807.400391    79.919272  \n",
       "..                         ...          ...  \n",
       "635                3027.500000    25.000000  \n",
       "636               28766.880859    41.490893  \n",
       "637                8361.992188    52.400001  \n",
       "638               20807.586304    51.779486  \n",
       "639               18497.033203    21.625863  \n",
       "\n",
       "[640 rows x 5 columns]"
      ]
     },
     "execution_count": 79,
     "metadata": {},
     "output_type": "execute_result"
    }
   ],
   "source": [
    "df"
   ]
  },
  {
   "cell_type": "markdown",
   "id": "8e7881a6",
   "metadata": {},
   "source": [
    "Problem Statement 24: \n",
    "\n",
    "**An Agency wants to find out if there is a relationship between dilapidated homes and the lack of households for the people.\n",
    "Using a stored procedure, create a report that shows the name of each district, its population, the number of liveable houses per 1000 people, and the number of dilapidated households per 1000 people. \n",
    "Visualize the relation between these values using an appropriate plot.**\n"
   ]
  },
  {
   "cell_type": "code",
   "execution_count": 80,
   "id": "646c031d",
   "metadata": {},
   "outputs": [
    {
     "data": {
      "text/html": [
       "<div>\n",
       "<style scoped>\n",
       "    .dataframe tbody tr th:only-of-type {\n",
       "        vertical-align: middle;\n",
       "    }\n",
       "\n",
       "    .dataframe tbody tr th {\n",
       "        vertical-align: top;\n",
       "    }\n",
       "\n",
       "    .dataframe thead th {\n",
       "        text-align: right;\n",
       "    }\n",
       "</style>\n",
       "<table border=\"1\" class=\"dataframe\">\n",
       "  <thead>\n",
       "    <tr style=\"text-align: right;\">\n",
       "      <th></th>\n",
       "      <th>District</th>\n",
       "      <th>Population</th>\n",
       "    </tr>\n",
       "  </thead>\n",
       "  <tbody>\n",
       "    <tr>\n",
       "      <th>0</th>\n",
       "      <td>Kupwara</td>\n",
       "      <td>870354.0</td>\n",
       "    </tr>\n",
       "    <tr>\n",
       "      <th>1</th>\n",
       "      <td>Badgam</td>\n",
       "      <td>753745.0</td>\n",
       "    </tr>\n",
       "    <tr>\n",
       "      <th>2</th>\n",
       "      <td>Leh(Ladakh)</td>\n",
       "      <td>133487.0</td>\n",
       "    </tr>\n",
       "    <tr>\n",
       "      <th>3</th>\n",
       "      <td>Kargil</td>\n",
       "      <td>140802.0</td>\n",
       "    </tr>\n",
       "    <tr>\n",
       "      <th>4</th>\n",
       "      <td>Punch</td>\n",
       "      <td>476835.0</td>\n",
       "    </tr>\n",
       "    <tr>\n",
       "      <th>...</th>\n",
       "      <td>...</td>\n",
       "      <td>...</td>\n",
       "    </tr>\n",
       "    <tr>\n",
       "      <th>635</th>\n",
       "      <td>Mahe</td>\n",
       "      <td>41816.0</td>\n",
       "    </tr>\n",
       "    <tr>\n",
       "      <th>636</th>\n",
       "      <td>Karaikal</td>\n",
       "      <td>200222.0</td>\n",
       "    </tr>\n",
       "    <tr>\n",
       "      <th>637</th>\n",
       "      <td>Nicobars</td>\n",
       "      <td>36842.0</td>\n",
       "    </tr>\n",
       "    <tr>\n",
       "      <th>638</th>\n",
       "      <td>North  and Middle Andaman</td>\n",
       "      <td>105597.0</td>\n",
       "    </tr>\n",
       "    <tr>\n",
       "      <th>639</th>\n",
       "      <td>South Andaman</td>\n",
       "      <td>238142.0</td>\n",
       "    </tr>\n",
       "  </tbody>\n",
       "</table>\n",
       "<p>640 rows × 2 columns</p>\n",
       "</div>"
      ],
      "text/plain": [
       "                      District  Population\n",
       "0                      Kupwara    870354.0\n",
       "1                       Badgam    753745.0\n",
       "2                  Leh(Ladakh)    133487.0\n",
       "3                       Kargil    140802.0\n",
       "4                        Punch    476835.0\n",
       "..                         ...         ...\n",
       "635                       Mahe     41816.0\n",
       "636                   Karaikal    200222.0\n",
       "637                   Nicobars     36842.0\n",
       "638  North  and Middle Andaman    105597.0\n",
       "639              South Andaman    238142.0\n",
       "\n",
       "[640 rows x 2 columns]"
      ]
     },
     "execution_count": 80,
     "metadata": {},
     "output_type": "execute_result"
    }
   ],
   "source": [
    "census=pd.read_csv('Clean_Data/clean_census.csv',usecols=['District','Population'])\n",
    "census"
   ]
  },
  {
   "cell_type": "code",
   "execution_count": 81,
   "id": "34db22d6",
   "metadata": {},
   "outputs": [],
   "source": [
    "#create a stored procedure\n",
    "query='create procedure housesrel(districts varchar(30)) begin select h.District,c.population,round((round(h.Households_Rural_Livable + h.Households_Urban_Livable)/c.population)*1000,1) as liveable, round((round(h.Households_Rural_Dilapidated + h.Households_Urban_Dilapidated)/c.population)*1000,1) as dilapidated from housing h join census c on c.district=h.district where h.district=districts; END;'"
   ]
  },
  {
   "cell_type": "code",
   "execution_count": 82,
   "id": "a4fb540e",
   "metadata": {},
   "outputs": [
    {
     "data": {
      "text/plain": [
       "0"
      ]
     },
     "execution_count": 82,
     "metadata": {},
     "output_type": "execute_result"
    }
   ],
   "source": [
    "cursor.execute(query)"
   ]
  },
  {
   "cell_type": "code",
   "execution_count": 83,
   "id": "1a2395e9",
   "metadata": {},
   "outputs": [
    {
     "data": {
      "text/plain": [
       "1"
      ]
     },
     "execution_count": 83,
     "metadata": {},
     "output_type": "execute_result"
    }
   ],
   "source": [
    "cursor.execute('call housesrel(\"Nashik\")')"
   ]
  },
  {
   "cell_type": "code",
   "execution_count": 84,
   "id": "49b1929b",
   "metadata": {},
   "outputs": [
    {
     "data": {
      "text/plain": [
       "(('Nashik', 6107190.0, 95.9, 16.3),)"
      ]
     },
     "execution_count": 84,
     "metadata": {},
     "output_type": "execute_result"
    }
   ],
   "source": [
    "cursor.fetchall()"
   ]
  },
  {
   "cell_type": "code",
   "execution_count": 85,
   "id": "5fdf9a51",
   "metadata": {},
   "outputs": [
    {
     "data": {
      "text/html": [
       "<div>\n",
       "<style scoped>\n",
       "    .dataframe tbody tr th:only-of-type {\n",
       "        vertical-align: middle;\n",
       "    }\n",
       "\n",
       "    .dataframe tbody tr th {\n",
       "        vertical-align: top;\n",
       "    }\n",
       "\n",
       "    .dataframe thead th {\n",
       "        text-align: right;\n",
       "    }\n",
       "</style>\n",
       "<table border=\"1\" class=\"dataframe\">\n",
       "  <thead>\n",
       "    <tr style=\"text-align: right;\">\n",
       "      <th></th>\n",
       "      <th>District</th>\n",
       "      <th>Population</th>\n",
       "    </tr>\n",
       "  </thead>\n",
       "  <tbody>\n",
       "    <tr>\n",
       "      <th>324</th>\n",
       "      <td>Darrang</td>\n",
       "      <td>928500.0</td>\n",
       "    </tr>\n",
       "  </tbody>\n",
       "</table>\n",
       "</div>"
      ],
      "text/plain": [
       "    District  Population\n",
       "324  Darrang    928500.0"
      ]
     },
     "execution_count": 85,
     "metadata": {},
     "output_type": "execute_result"
    }
   ],
   "source": [
    "census[census['District']=='Darrang']"
   ]
  },
  {
   "cell_type": "code",
   "execution_count": 86,
   "id": "e3a9757a",
   "metadata": {},
   "outputs": [],
   "source": [
    "for x in districtList:\n",
    "    cursor.callproc('housesrel', [x])\n",
    "    rows = cursor.fetchall()\n",
    "    census.loc[census['District']==x,'per1000liveable']=rows[0][2]\n",
    "    census.loc[census['District']==x,'per1000dilapiated']=rows[0][3]"
   ]
  },
  {
   "cell_type": "code",
   "execution_count": 87,
   "id": "1eb37ca4",
   "metadata": {},
   "outputs": [
    {
     "data": {
      "text/html": [
       "<div>\n",
       "<style scoped>\n",
       "    .dataframe tbody tr th:only-of-type {\n",
       "        vertical-align: middle;\n",
       "    }\n",
       "\n",
       "    .dataframe tbody tr th {\n",
       "        vertical-align: top;\n",
       "    }\n",
       "\n",
       "    .dataframe thead th {\n",
       "        text-align: right;\n",
       "    }\n",
       "</style>\n",
       "<table border=\"1\" class=\"dataframe\">\n",
       "  <thead>\n",
       "    <tr style=\"text-align: right;\">\n",
       "      <th></th>\n",
       "      <th>District</th>\n",
       "      <th>Population</th>\n",
       "      <th>per1000liveable</th>\n",
       "      <th>per1000dilapiated</th>\n",
       "    </tr>\n",
       "  </thead>\n",
       "  <tbody>\n",
       "    <tr>\n",
       "      <th>324</th>\n",
       "      <td>Darrang</td>\n",
       "      <td>928500.0</td>\n",
       "      <td>192.3</td>\n",
       "      <td>37.1</td>\n",
       "    </tr>\n",
       "  </tbody>\n",
       "</table>\n",
       "</div>"
      ],
      "text/plain": [
       "    District  Population  per1000liveable  per1000dilapiated\n",
       "324  Darrang    928500.0            192.3               37.1"
      ]
     },
     "execution_count": 87,
     "metadata": {},
     "output_type": "execute_result"
    }
   ],
   "source": [
    "census[census['District']=='Darrang']"
   ]
  }
 ],
 "metadata": {
  "kernelspec": {
   "display_name": "Python 3 (ipykernel)",
   "language": "python",
   "name": "python3"
  },
  "language_info": {
   "codemirror_mode": {
    "name": "ipython",
    "version": 3
   },
   "file_extension": ".py",
   "mimetype": "text/x-python",
   "name": "python",
   "nbconvert_exporter": "python",
   "pygments_lexer": "ipython3",
   "version": "3.9.13"
  }
 },
 "nbformat": 4,
 "nbformat_minor": 5
}
