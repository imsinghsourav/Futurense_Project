{
 "cells": [
  {
   "cell_type": "code",
   "execution_count": 1,
   "id": "c50522c4",
   "metadata": {},
   "outputs": [],
   "source": [
    "# Importing the required packages\n",
    "import pandas as pd\n",
    "import numpy as np"
   ]
  },
  {
   "cell_type": "code",
   "execution_count": 2,
   "id": "52843e2f",
   "metadata": {},
   "outputs": [],
   "source": [
    "# Loading housing dataset\n",
    "housing=pd.read_csv('Clean_Data\\housing_clean.csv',usecols=['Households_Rural','Households_Urban'])"
   ]
  },
  {
   "cell_type": "code",
   "execution_count": 3,
   "id": "2784e50a",
   "metadata": {},
   "outputs": [],
   "source": [
    "# Loading census dataset\n",
    "census=pd.read_csv('Clean_Data\\census_clean.csv',usecols=['Households_Rural','Households_Urban'])"
   ]
  },
  {
   "cell_type": "code",
   "execution_count": 4,
   "id": "21a952ca",
   "metadata": {},
   "outputs": [],
   "source": [
    "# Joining census and housing dataset\n",
    "joineddata=housing.join(census,how='left',lsuffix=\"_h\",rsuffix='_c')"
   ]
  },
  {
   "cell_type": "code",
   "execution_count": 5,
   "id": "b927e82f",
   "metadata": {},
   "outputs": [
    {
     "data": {
      "text/html": [
       "<div>\n",
       "<style scoped>\n",
       "    .dataframe tbody tr th:only-of-type {\n",
       "        vertical-align: middle;\n",
       "    }\n",
       "\n",
       "    .dataframe tbody tr th {\n",
       "        vertical-align: top;\n",
       "    }\n",
       "\n",
       "    .dataframe thead th {\n",
       "        text-align: right;\n",
       "    }\n",
       "</style>\n",
       "<table border=\"1\" class=\"dataframe\">\n",
       "  <thead>\n",
       "    <tr style=\"text-align: right;\">\n",
       "      <th></th>\n",
       "      <th>Households_Rural_h</th>\n",
       "      <th>Households_Urban_h</th>\n",
       "      <th>Households_Rural_c</th>\n",
       "      <th>Households_Urban_c</th>\n",
       "    </tr>\n",
       "  </thead>\n",
       "  <tbody>\n",
       "    <tr>\n",
       "      <th>0</th>\n",
       "      <td>158438.0</td>\n",
       "      <td>23226.0</td>\n",
       "      <td>158438.0</td>\n",
       "      <td>23226.0</td>\n",
       "    </tr>\n",
       "    <tr>\n",
       "      <th>1</th>\n",
       "      <td>160649.0</td>\n",
       "      <td>27190.0</td>\n",
       "      <td>160649.0</td>\n",
       "      <td>27190.0</td>\n",
       "    </tr>\n",
       "    <tr>\n",
       "      <th>2</th>\n",
       "      <td>36920.0</td>\n",
       "      <td>17474.0</td>\n",
       "      <td>36920.0</td>\n",
       "      <td>17474.0</td>\n",
       "    </tr>\n",
       "    <tr>\n",
       "      <th>3</th>\n",
       "      <td>40370.0</td>\n",
       "      <td>7774.0</td>\n",
       "      <td>40370.0</td>\n",
       "      <td>7774.0</td>\n",
       "    </tr>\n",
       "    <tr>\n",
       "      <th>4</th>\n",
       "      <td>132139.0</td>\n",
       "      <td>15269.0</td>\n",
       "      <td>132139.0</td>\n",
       "      <td>15269.0</td>\n",
       "    </tr>\n",
       "  </tbody>\n",
       "</table>\n",
       "</div>"
      ],
      "text/plain": [
       "   Households_Rural_h  Households_Urban_h  Households_Rural_c  \\\n",
       "0            158438.0             23226.0            158438.0   \n",
       "1            160649.0             27190.0            160649.0   \n",
       "2             36920.0             17474.0             36920.0   \n",
       "3             40370.0              7774.0             40370.0   \n",
       "4            132139.0             15269.0            132139.0   \n",
       "\n",
       "   Households_Urban_c  \n",
       "0             23226.0  \n",
       "1             27190.0  \n",
       "2             17474.0  \n",
       "3              7774.0  \n",
       "4             15269.0  "
      ]
     },
     "execution_count": 5,
     "metadata": {},
     "output_type": "execute_result"
    }
   ],
   "source": [
    "joineddata.head()"
   ]
  },
  {
   "cell_type": "code",
   "execution_count": 6,
   "id": "a81dfd24",
   "metadata": {},
   "outputs": [],
   "source": [
    "# Checking for difference in data for housing and census dataset\n",
    "joineddata['difference percent rural']=((joineddata['Households_Rural_h']-joineddata['Households_Rural_c']))*100"
   ]
  },
  {
   "cell_type": "code",
   "execution_count": 7,
   "id": "0abdf6b4",
   "metadata": {},
   "outputs": [],
   "source": [
    "joineddata['difference percent urban']=((joineddata['Households_Urban_h']-joineddata['Households_Urban_h']))*100"
   ]
  },
  {
   "cell_type": "code",
   "execution_count": 8,
   "id": "7b439f49",
   "metadata": {},
   "outputs": [
    {
     "data": {
      "text/html": [
       "<div>\n",
       "<style scoped>\n",
       "    .dataframe tbody tr th:only-of-type {\n",
       "        vertical-align: middle;\n",
       "    }\n",
       "\n",
       "    .dataframe tbody tr th {\n",
       "        vertical-align: top;\n",
       "    }\n",
       "\n",
       "    .dataframe thead th {\n",
       "        text-align: right;\n",
       "    }\n",
       "</style>\n",
       "<table border=\"1\" class=\"dataframe\">\n",
       "  <thead>\n",
       "    <tr style=\"text-align: right;\">\n",
       "      <th></th>\n",
       "      <th>Households_Rural_h</th>\n",
       "      <th>Households_Urban_h</th>\n",
       "      <th>Households_Rural_c</th>\n",
       "      <th>Households_Urban_c</th>\n",
       "      <th>difference percent rural</th>\n",
       "      <th>difference percent urban</th>\n",
       "    </tr>\n",
       "  </thead>\n",
       "  <tbody>\n",
       "    <tr>\n",
       "      <th>0</th>\n",
       "      <td>158438.0</td>\n",
       "      <td>23226.0</td>\n",
       "      <td>158438.0</td>\n",
       "      <td>23226.0</td>\n",
       "      <td>0.0</td>\n",
       "      <td>0.0</td>\n",
       "    </tr>\n",
       "    <tr>\n",
       "      <th>1</th>\n",
       "      <td>160649.0</td>\n",
       "      <td>27190.0</td>\n",
       "      <td>160649.0</td>\n",
       "      <td>27190.0</td>\n",
       "      <td>0.0</td>\n",
       "      <td>0.0</td>\n",
       "    </tr>\n",
       "    <tr>\n",
       "      <th>2</th>\n",
       "      <td>36920.0</td>\n",
       "      <td>17474.0</td>\n",
       "      <td>36920.0</td>\n",
       "      <td>17474.0</td>\n",
       "      <td>0.0</td>\n",
       "      <td>0.0</td>\n",
       "    </tr>\n",
       "    <tr>\n",
       "      <th>3</th>\n",
       "      <td>40370.0</td>\n",
       "      <td>7774.0</td>\n",
       "      <td>40370.0</td>\n",
       "      <td>7774.0</td>\n",
       "      <td>0.0</td>\n",
       "      <td>0.0</td>\n",
       "    </tr>\n",
       "    <tr>\n",
       "      <th>4</th>\n",
       "      <td>132139.0</td>\n",
       "      <td>15269.0</td>\n",
       "      <td>132139.0</td>\n",
       "      <td>15269.0</td>\n",
       "      <td>0.0</td>\n",
       "      <td>0.0</td>\n",
       "    </tr>\n",
       "  </tbody>\n",
       "</table>\n",
       "</div>"
      ],
      "text/plain": [
       "   Households_Rural_h  Households_Urban_h  Households_Rural_c  \\\n",
       "0            158438.0             23226.0            158438.0   \n",
       "1            160649.0             27190.0            160649.0   \n",
       "2             36920.0             17474.0             36920.0   \n",
       "3             40370.0              7774.0             40370.0   \n",
       "4            132139.0             15269.0            132139.0   \n",
       "\n",
       "   Households_Urban_c  difference percent rural  difference percent urban  \n",
       "0             23226.0                       0.0                       0.0  \n",
       "1             27190.0                       0.0                       0.0  \n",
       "2             17474.0                       0.0                       0.0  \n",
       "3              7774.0                       0.0                       0.0  \n",
       "4             15269.0                       0.0                       0.0  "
      ]
     },
     "execution_count": 8,
     "metadata": {},
     "output_type": "execute_result"
    }
   ],
   "source": [
    "joineddata.head()"
   ]
  },
  {
   "cell_type": "code",
   "execution_count": 12,
   "id": "b2f925ea",
   "metadata": {},
   "outputs": [
    {
     "data": {
      "text/html": [
       "<div>\n",
       "<style scoped>\n",
       "    .dataframe tbody tr th:only-of-type {\n",
       "        vertical-align: middle;\n",
       "    }\n",
       "\n",
       "    .dataframe tbody tr th {\n",
       "        vertical-align: top;\n",
       "    }\n",
       "\n",
       "    .dataframe thead th {\n",
       "        text-align: right;\n",
       "    }\n",
       "</style>\n",
       "<table border=\"1\" class=\"dataframe\">\n",
       "  <thead>\n",
       "    <tr style=\"text-align: right;\">\n",
       "      <th></th>\n",
       "      <th>Households_Rural_h</th>\n",
       "      <th>Households_Urban_h</th>\n",
       "      <th>Households_Rural_c</th>\n",
       "      <th>Households_Urban_c</th>\n",
       "      <th>difference percent rural</th>\n",
       "      <th>difference percent urban</th>\n",
       "    </tr>\n",
       "  </thead>\n",
       "  <tbody>\n",
       "  </tbody>\n",
       "</table>\n",
       "</div>"
      ],
      "text/plain": [
       "Empty DataFrame\n",
       "Columns: [Households_Rural_h, Households_Urban_h, Households_Rural_c, Households_Urban_c, difference percent rural, difference percent urban]\n",
       "Index: []"
      ]
     },
     "execution_count": 12,
     "metadata": {},
     "output_type": "execute_result"
    }
   ],
   "source": [
    "# Checking if there is more than 10% difference\n",
    "joineddata[joineddata['difference percent urban']>10.0]"
   ]
  },
  {
   "cell_type": "code",
   "execution_count": null,
   "id": "d732c6f8",
   "metadata": {},
   "outputs": [],
   "source": []
  }
 ],
 "metadata": {
  "kernelspec": {
   "display_name": "Python 3 (ipykernel)",
   "language": "python",
   "name": "python3"
  },
  "language_info": {
   "codemirror_mode": {
    "name": "ipython",
    "version": 3
   },
   "file_extension": ".py",
   "mimetype": "text/x-python",
   "name": "python",
   "nbconvert_exporter": "python",
   "pygments_lexer": "ipython3",
   "version": "3.9.13"
  }
 },
 "nbformat": 4,
 "nbformat_minor": 5
}
